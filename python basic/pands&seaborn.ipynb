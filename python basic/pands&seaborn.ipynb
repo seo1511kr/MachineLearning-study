{
 "cells": [
  {
   "cell_type": "code",
   "execution_count": 1,
   "metadata": {},
   "outputs": [],
   "source": [
    "import pandas as pd\n",
    "import matplotlib.pyplot as plt\n",
    "import seaborn as sns\n",
    "\n",
    "import warnings\n",
    "warnings.filterwarnings(action=\"ignore\")"
   ]
  },
  {
   "cell_type": "code",
   "execution_count": 2,
   "metadata": {},
   "outputs": [
    {
     "data": {
      "text/html": [
       "<div>\n",
       "<style scoped>\n",
       "    .dataframe tbody tr th:only-of-type {\n",
       "        vertical-align: middle;\n",
       "    }\n",
       "\n",
       "    .dataframe tbody tr th {\n",
       "        vertical-align: top;\n",
       "    }\n",
       "\n",
       "    .dataframe thead th {\n",
       "        text-align: right;\n",
       "    }\n",
       "</style>\n",
       "<table border=\"1\" class=\"dataframe\">\n",
       "  <thead>\n",
       "    <tr style=\"text-align: right;\">\n",
       "      <th></th>\n",
       "      <th>Name</th>\n",
       "      <th>Sex</th>\n",
       "      <th>Age</th>\n",
       "      <th>Height</th>\n",
       "      <th>Weight</th>\n",
       "      <th>Team</th>\n",
       "      <th>NOC</th>\n",
       "      <th>Year</th>\n",
       "      <th>Medal</th>\n",
       "    </tr>\n",
       "  </thead>\n",
       "  <tbody>\n",
       "    <tr>\n",
       "      <th>0</th>\n",
       "      <td>A Lamusi</td>\n",
       "      <td>M</td>\n",
       "      <td>23</td>\n",
       "      <td>170</td>\n",
       "      <td>60.0</td>\n",
       "      <td>China</td>\n",
       "      <td>CHN</td>\n",
       "      <td>2012</td>\n",
       "      <td>None</td>\n",
       "    </tr>\n",
       "    <tr>\n",
       "      <th>1</th>\n",
       "      <td>Juhamatti Tapio Aaltonen</td>\n",
       "      <td>M</td>\n",
       "      <td>28</td>\n",
       "      <td>184</td>\n",
       "      <td>85.0</td>\n",
       "      <td>Finland</td>\n",
       "      <td>FIN</td>\n",
       "      <td>2014</td>\n",
       "      <td>Bronze</td>\n",
       "    </tr>\n",
       "    <tr>\n",
       "      <th>2</th>\n",
       "      <td>Andreea Aanei</td>\n",
       "      <td>F</td>\n",
       "      <td>22</td>\n",
       "      <td>170</td>\n",
       "      <td>125.0</td>\n",
       "      <td>Romania</td>\n",
       "      <td>ROU</td>\n",
       "      <td>2016</td>\n",
       "      <td>None</td>\n",
       "    </tr>\n",
       "    <tr>\n",
       "      <th>3</th>\n",
       "      <td>Jamale (Djamel-) Aarrass (Ahrass-)</td>\n",
       "      <td>M</td>\n",
       "      <td>30</td>\n",
       "      <td>187</td>\n",
       "      <td>76.0</td>\n",
       "      <td>France</td>\n",
       "      <td>FRA</td>\n",
       "      <td>2012</td>\n",
       "      <td>None</td>\n",
       "    </tr>\n",
       "    <tr>\n",
       "      <th>4</th>\n",
       "      <td>Nstor Abad Sanjun</td>\n",
       "      <td>M</td>\n",
       "      <td>23</td>\n",
       "      <td>167</td>\n",
       "      <td>64.0</td>\n",
       "      <td>Spain</td>\n",
       "      <td>ESP</td>\n",
       "      <td>2016</td>\n",
       "      <td>None</td>\n",
       "    </tr>\n",
       "  </tbody>\n",
       "</table>\n",
       "</div>"
      ],
      "text/plain": [
       "                                 Name Sex  Age  Height  Weight     Team  NOC  \\\n",
       "0                            A Lamusi   M   23     170    60.0    China  CHN   \n",
       "1            Juhamatti Tapio Aaltonen   M   28     184    85.0  Finland  FIN   \n",
       "2                       Andreea Aanei   F   22     170   125.0  Romania  ROU   \n",
       "3  Jamale (Djamel-) Aarrass (Ahrass-)   M   30     187    76.0   France  FRA   \n",
       "4                   Nstor Abad Sanjun   M   23     167    64.0    Spain  ESP   \n",
       "\n",
       "   Year   Medal  \n",
       "0  2012    None  \n",
       "1  2014  Bronze  \n",
       "2  2016    None  \n",
       "3  2012    None  \n",
       "4  2016    None  "
      ]
     },
     "execution_count": 2,
     "metadata": {},
     "output_type": "execute_result"
    }
   ],
   "source": [
    "Olympic = pd.read_csv(\"../Data/Olympic.csv\")\n",
    "Olympic.head()"
   ]
  },
  {
   "cell_type": "code",
   "execution_count": 3,
   "metadata": {},
   "outputs": [
    {
     "name": "stdout",
     "output_type": "stream",
     "text": [
      "(35018, 9)\n"
     ]
    }
   ],
   "source": [
    "#1.1 데이터 행과 열 개수 확인하시오.\n",
    "\n",
    "print(Olympic.shape)\n"
   ]
  },
  {
   "cell_type": "code",
   "execution_count": 4,
   "metadata": {},
   "outputs": [
    {
     "data": {
      "text/plain": [
       "(27721, 9)"
      ]
     },
     "execution_count": 4,
     "metadata": {},
     "output_type": "execute_result"
    }
   ],
   "source": [
    "#1.2 중복제거 후 행과 열 개수 확인하시오.\n",
    "#중복 기준은 특정 컬럼이아닌 전체 컬럼에 대한 값이 같으면 중복 행으로 생각\n",
    "\n",
    "Olympic[~Olympic.duplicated()].shape"
   ]
  },
  {
   "cell_type": "code",
   "execution_count": 5,
   "metadata": {},
   "outputs": [
    {
     "data": {
      "text/html": [
       "<div>\n",
       "<style scoped>\n",
       "    .dataframe tbody tr th:only-of-type {\n",
       "        vertical-align: middle;\n",
       "    }\n",
       "\n",
       "    .dataframe tbody tr th {\n",
       "        vertical-align: top;\n",
       "    }\n",
       "\n",
       "    .dataframe thead th {\n",
       "        text-align: right;\n",
       "    }\n",
       "</style>\n",
       "<table border=\"1\" class=\"dataframe\">\n",
       "  <thead>\n",
       "    <tr style=\"text-align: right;\">\n",
       "      <th></th>\n",
       "      <th>Name</th>\n",
       "      <th>Sex</th>\n",
       "      <th>Age</th>\n",
       "      <th>Height</th>\n",
       "      <th>Weight</th>\n",
       "      <th>Team</th>\n",
       "      <th>NOC</th>\n",
       "      <th>Year</th>\n",
       "      <th>Medal</th>\n",
       "    </tr>\n",
       "  </thead>\n",
       "  <tbody>\n",
       "    <tr>\n",
       "      <th>0</th>\n",
       "      <td>A Lamusi</td>\n",
       "      <td>M</td>\n",
       "      <td>23</td>\n",
       "      <td>170</td>\n",
       "      <td>60.0</td>\n",
       "      <td>China</td>\n",
       "      <td>CHN</td>\n",
       "      <td>2012</td>\n",
       "      <td>None</td>\n",
       "    </tr>\n",
       "    <tr>\n",
       "      <th>1</th>\n",
       "      <td>Juhamatti Tapio Aaltonen</td>\n",
       "      <td>M</td>\n",
       "      <td>28</td>\n",
       "      <td>184</td>\n",
       "      <td>85.0</td>\n",
       "      <td>Finland</td>\n",
       "      <td>FIN</td>\n",
       "      <td>2014</td>\n",
       "      <td>Bronze</td>\n",
       "    </tr>\n",
       "    <tr>\n",
       "      <th>2</th>\n",
       "      <td>Andreea Aanei</td>\n",
       "      <td>F</td>\n",
       "      <td>22</td>\n",
       "      <td>170</td>\n",
       "      <td>125.0</td>\n",
       "      <td>Romania</td>\n",
       "      <td>ROU</td>\n",
       "      <td>2016</td>\n",
       "      <td>None</td>\n",
       "    </tr>\n",
       "    <tr>\n",
       "      <th>3</th>\n",
       "      <td>Jamale (Djamel-) Aarrass (Ahrass-)</td>\n",
       "      <td>M</td>\n",
       "      <td>30</td>\n",
       "      <td>187</td>\n",
       "      <td>76.0</td>\n",
       "      <td>France</td>\n",
       "      <td>FRA</td>\n",
       "      <td>2012</td>\n",
       "      <td>None</td>\n",
       "    </tr>\n",
       "    <tr>\n",
       "      <th>4</th>\n",
       "      <td>Nstor Abad Sanjun</td>\n",
       "      <td>M</td>\n",
       "      <td>23</td>\n",
       "      <td>167</td>\n",
       "      <td>64.0</td>\n",
       "      <td>Spain</td>\n",
       "      <td>ESP</td>\n",
       "      <td>2016</td>\n",
       "      <td>None</td>\n",
       "    </tr>\n",
       "    <tr>\n",
       "      <th>...</th>\n",
       "      <td>...</td>\n",
       "      <td>...</td>\n",
       "      <td>...</td>\n",
       "      <td>...</td>\n",
       "      <td>...</td>\n",
       "      <td>...</td>\n",
       "      <td>...</td>\n",
       "      <td>...</td>\n",
       "      <td>...</td>\n",
       "    </tr>\n",
       "    <tr>\n",
       "      <th>35013</th>\n",
       "      <td>Dominik ycki</td>\n",
       "      <td>M</td>\n",
       "      <td>38</td>\n",
       "      <td>192</td>\n",
       "      <td>95.0</td>\n",
       "      <td>Poland</td>\n",
       "      <td>POL</td>\n",
       "      <td>2012</td>\n",
       "      <td>None</td>\n",
       "    </tr>\n",
       "    <tr>\n",
       "      <th>35014</th>\n",
       "      <td>ukasz Tomasz ygado</td>\n",
       "      <td>M</td>\n",
       "      <td>32</td>\n",
       "      <td>200</td>\n",
       "      <td>89.0</td>\n",
       "      <td>Poland</td>\n",
       "      <td>POL</td>\n",
       "      <td>2012</td>\n",
       "      <td>None</td>\n",
       "    </tr>\n",
       "    <tr>\n",
       "      <th>35015</th>\n",
       "      <td>Olga Igorevna Zyuzkova</td>\n",
       "      <td>F</td>\n",
       "      <td>33</td>\n",
       "      <td>171</td>\n",
       "      <td>69.0</td>\n",
       "      <td>Belarus</td>\n",
       "      <td>BLR</td>\n",
       "      <td>2016</td>\n",
       "      <td>None</td>\n",
       "    </tr>\n",
       "    <tr>\n",
       "      <th>35016</th>\n",
       "      <td>Piotr ya</td>\n",
       "      <td>M</td>\n",
       "      <td>27</td>\n",
       "      <td>176</td>\n",
       "      <td>59.0</td>\n",
       "      <td>Poland</td>\n",
       "      <td>POL</td>\n",
       "      <td>2014</td>\n",
       "      <td>None</td>\n",
       "    </tr>\n",
       "    <tr>\n",
       "      <th>35017</th>\n",
       "      <td>Piotr ya</td>\n",
       "      <td>M</td>\n",
       "      <td>27</td>\n",
       "      <td>176</td>\n",
       "      <td>59.0</td>\n",
       "      <td>Poland</td>\n",
       "      <td>POL</td>\n",
       "      <td>2014</td>\n",
       "      <td>None</td>\n",
       "    </tr>\n",
       "  </tbody>\n",
       "</table>\n",
       "<p>35018 rows × 9 columns</p>\n",
       "</div>"
      ],
      "text/plain": [
       "                                     Name Sex  Age  Height  Weight     Team  \\\n",
       "0                                A Lamusi   M   23     170    60.0    China   \n",
       "1                Juhamatti Tapio Aaltonen   M   28     184    85.0  Finland   \n",
       "2                           Andreea Aanei   F   22     170   125.0  Romania   \n",
       "3      Jamale (Djamel-) Aarrass (Ahrass-)   M   30     187    76.0   France   \n",
       "4                       Nstor Abad Sanjun   M   23     167    64.0    Spain   \n",
       "...                                   ...  ..  ...     ...     ...      ...   \n",
       "35013                        Dominik ycki   M   38     192    95.0   Poland   \n",
       "35014                  ukasz Tomasz ygado   M   32     200    89.0   Poland   \n",
       "35015              Olga Igorevna Zyuzkova   F   33     171    69.0  Belarus   \n",
       "35016                            Piotr ya   M   27     176    59.0   Poland   \n",
       "35017                            Piotr ya   M   27     176    59.0   Poland   \n",
       "\n",
       "       NOC  Year   Medal  \n",
       "0      CHN  2012    None  \n",
       "1      FIN  2014  Bronze  \n",
       "2      ROU  2016    None  \n",
       "3      FRA  2012    None  \n",
       "4      ESP  2016    None  \n",
       "...    ...   ...     ...  \n",
       "35013  POL  2012    None  \n",
       "35014  POL  2012    None  \n",
       "35015  BLR  2016    None  \n",
       "35016  POL  2014    None  \n",
       "35017  POL  2014    None  \n",
       "\n",
       "[35018 rows x 9 columns]"
      ]
     },
     "execution_count": 5,
     "metadata": {},
     "output_type": "execute_result"
    }
   ],
   "source": [
    "#1.3 데이터 인덱스(index) 확인하시오.\n",
    "#인덱스 확인전에 .reset_index(drop=True) 실행 후 진행 할 것\n",
    "Olympic.reset_index(drop=True)"
   ]
  },
  {
   "cell_type": "code",
   "execution_count": 6,
   "metadata": {},
   "outputs": [
    {
     "data": {
      "text/plain": [
       "RangeIndex(start=0, stop=35018, step=1)"
      ]
     },
     "execution_count": 6,
     "metadata": {},
     "output_type": "execute_result"
    }
   ],
   "source": [
    "Olympic.index"
   ]
  },
  {
   "cell_type": "code",
   "execution_count": 7,
   "metadata": {},
   "outputs": [
    {
     "data": {
      "text/plain": [
       "Index(['Name', 'Sex', 'Age', 'Height', 'Weight', 'Team', 'NOC', 'Year',\n",
       "       'Medal'],\n",
       "      dtype='object')"
      ]
     },
     "execution_count": 7,
     "metadata": {},
     "output_type": "execute_result"
    }
   ],
   "source": [
    "#1.4 데이터 컬럼(column) 확인하시오.\n",
    "Olympic.columns\n"
   ]
  },
  {
   "cell_type": "code",
   "execution_count": 8,
   "metadata": {},
   "outputs": [
    {
     "data": {
      "text/plain": [
       "Name       object\n",
       "Sex        object\n",
       "Age         int64\n",
       "Height      int64\n",
       "Weight    float64\n",
       "Team       object\n",
       "NOC        object\n",
       "Year        int64\n",
       "Medal      object\n",
       "dtype: object"
      ]
     },
     "execution_count": 8,
     "metadata": {},
     "output_type": "execute_result"
    }
   ],
   "source": [
    "#1.5 데이터 변수 형식 확인하시오.\n",
    "Olympic.dtypes"
   ]
  },
  {
   "cell_type": "code",
   "execution_count": 9,
   "metadata": {},
   "outputs": [
    {
     "name": "stdout",
     "output_type": "stream",
     "text": [
      "<class 'pandas.core.frame.DataFrame'>\n",
      "RangeIndex: 35018 entries, 0 to 35017\n",
      "Data columns (total 9 columns):\n",
      " #   Column  Non-Null Count  Dtype  \n",
      "---  ------  --------------  -----  \n",
      " 0   Name    35018 non-null  object \n",
      " 1   Sex     35018 non-null  object \n",
      " 2   Age     35018 non-null  int64  \n",
      " 3   Height  35018 non-null  int64  \n",
      " 4   Weight  35018 non-null  float64\n",
      " 5   Team    35018 non-null  object \n",
      " 6   NOC     35018 non-null  object \n",
      " 7   Year    35018 non-null  int64  \n",
      " 8   Medal   35018 non-null  object \n",
      "dtypes: float64(1), int64(3), object(5)\n",
      "memory usage: 2.4+ MB\n"
     ]
    }
   ],
   "source": [
    "#1.6 데이터 타입과 각 변수별 아이템 개수 확인하시오.\n",
    "Olympic.info()"
   ]
  },
  {
   "cell_type": "code",
   "execution_count": 20,
   "metadata": {
    "scrolled": true
   },
   "outputs": [
    {
     "data": {
      "text/plain": [
       "Year\n",
       "2010     4378\n",
       "2012    12524\n",
       "2014     4673\n",
       "2016    13443\n",
       "dtype: int64"
      ]
     },
     "execution_count": 20,
     "metadata": {},
     "output_type": "execute_result"
    }
   ],
   "source": [
    "#2.1 Year별 Data수를 확인하시오.\n",
    "Olympic.groupby('Year').size()"
   ]
  },
  {
   "cell_type": "code",
   "execution_count": 31,
   "metadata": {},
   "outputs": [
    {
     "data": {
      "text/plain": [
       "Name\n",
       "Kim Su-Myeon      8\n",
       "Park Min-Soo      7\n",
       "Park Seung-Hui    7\n",
       "No Seon-Yeong     6\n",
       "Park Tae-Hwan     6\n",
       "Name: Name, dtype: int64"
      ]
     },
     "execution_count": 31,
     "metadata": {},
     "output_type": "execute_result"
    }
   ],
   "source": [
    "#2.2 NOC가 KOR인 선수들 별 출전 횟수를 출력하시오.\n",
    "Olympic[Olympic['NOC']==\"KOR\"].groupby('Name')['Name'].count().sort_values(ascending=False).head()\n",
    "\n"
   ]
  },
  {
   "cell_type": "code",
   "execution_count": 12,
   "metadata": {},
   "outputs": [
    {
     "data": {
      "text/html": [
       "<div>\n",
       "<style scoped>\n",
       "    .dataframe tbody tr th:only-of-type {\n",
       "        vertical-align: middle;\n",
       "    }\n",
       "\n",
       "    .dataframe tbody tr th {\n",
       "        vertical-align: top;\n",
       "    }\n",
       "\n",
       "    .dataframe thead th {\n",
       "        text-align: right;\n",
       "    }\n",
       "</style>\n",
       "<table border=\"1\" class=\"dataframe\">\n",
       "  <thead>\n",
       "    <tr style=\"text-align: right;\">\n",
       "      <th></th>\n",
       "      <th>Name</th>\n",
       "      <th>Sex</th>\n",
       "      <th>Age</th>\n",
       "      <th>Height</th>\n",
       "      <th>Weight</th>\n",
       "      <th>Team</th>\n",
       "      <th>NOC</th>\n",
       "      <th>Year</th>\n",
       "      <th>Medal</th>\n",
       "    </tr>\n",
       "  </thead>\n",
       "  <tbody>\n",
       "    <tr>\n",
       "      <th>5178</th>\n",
       "      <td>Choi Hyeon-Ju</td>\n",
       "      <td>F</td>\n",
       "      <td>27</td>\n",
       "      <td>172</td>\n",
       "      <td>65.0</td>\n",
       "      <td>South Korea</td>\n",
       "      <td>KOR</td>\n",
       "      <td>2012</td>\n",
       "      <td>Gold</td>\n",
       "    </tr>\n",
       "    <tr>\n",
       "      <th>10840</th>\n",
       "      <td>Gu Bon-Gil</td>\n",
       "      <td>M</td>\n",
       "      <td>23</td>\n",
       "      <td>182</td>\n",
       "      <td>70.0</td>\n",
       "      <td>South Korea</td>\n",
       "      <td>KOR</td>\n",
       "      <td>2012</td>\n",
       "      <td>Gold</td>\n",
       "    </tr>\n",
       "    <tr>\n",
       "      <th>12813</th>\n",
       "      <td>Hwang Gyeong-Seon</td>\n",
       "      <td>F</td>\n",
       "      <td>26</td>\n",
       "      <td>175</td>\n",
       "      <td>67.0</td>\n",
       "      <td>South Korea</td>\n",
       "      <td>KOR</td>\n",
       "      <td>2012</td>\n",
       "      <td>Gold</td>\n",
       "    </tr>\n",
       "    <tr>\n",
       "      <th>13821</th>\n",
       "      <td>Jin Jong-O</td>\n",
       "      <td>M</td>\n",
       "      <td>32</td>\n",
       "      <td>175</td>\n",
       "      <td>78.0</td>\n",
       "      <td>South Korea</td>\n",
       "      <td>KOR</td>\n",
       "      <td>2012</td>\n",
       "      <td>Gold</td>\n",
       "    </tr>\n",
       "    <tr>\n",
       "      <th>13822</th>\n",
       "      <td>Jin Jong-O</td>\n",
       "      <td>M</td>\n",
       "      <td>32</td>\n",
       "      <td>175</td>\n",
       "      <td>78.0</td>\n",
       "      <td>South Korea</td>\n",
       "      <td>KOR</td>\n",
       "      <td>2012</td>\n",
       "      <td>Gold</td>\n",
       "    </tr>\n",
       "    <tr>\n",
       "      <th>14943</th>\n",
       "      <td>Ki Bo-Bae</td>\n",
       "      <td>F</td>\n",
       "      <td>24</td>\n",
       "      <td>167</td>\n",
       "      <td>57.0</td>\n",
       "      <td>South Korea</td>\n",
       "      <td>KOR</td>\n",
       "      <td>2012</td>\n",
       "      <td>Gold</td>\n",
       "    </tr>\n",
       "    <tr>\n",
       "      <th>14944</th>\n",
       "      <td>Ki Bo-Bae</td>\n",
       "      <td>F</td>\n",
       "      <td>24</td>\n",
       "      <td>167</td>\n",
       "      <td>57.0</td>\n",
       "      <td>South Korea</td>\n",
       "      <td>KOR</td>\n",
       "      <td>2012</td>\n",
       "      <td>Gold</td>\n",
       "    </tr>\n",
       "    <tr>\n",
       "      <th>15089</th>\n",
       "      <td>Kim Hyeon-Wu</td>\n",
       "      <td>M</td>\n",
       "      <td>23</td>\n",
       "      <td>173</td>\n",
       "      <td>80.0</td>\n",
       "      <td>South Korea</td>\n",
       "      <td>KOR</td>\n",
       "      <td>2012</td>\n",
       "      <td>Gold</td>\n",
       "    </tr>\n",
       "    <tr>\n",
       "      <th>15098</th>\n",
       "      <td>Kim Jae-Beom</td>\n",
       "      <td>M</td>\n",
       "      <td>27</td>\n",
       "      <td>180</td>\n",
       "      <td>78.0</td>\n",
       "      <td>South Korea</td>\n",
       "      <td>KOR</td>\n",
       "      <td>2012</td>\n",
       "      <td>Gold</td>\n",
       "    </tr>\n",
       "    <tr>\n",
       "      <th>15102</th>\n",
       "      <td>Kim Jang-Mi</td>\n",
       "      <td>F</td>\n",
       "      <td>19</td>\n",
       "      <td>160</td>\n",
       "      <td>53.0</td>\n",
       "      <td>South Korea</td>\n",
       "      <td>KOR</td>\n",
       "      <td>2012</td>\n",
       "      <td>Gold</td>\n",
       "    </tr>\n",
       "    <tr>\n",
       "      <th>15105</th>\n",
       "      <td>Kim Jeong-Hwan</td>\n",
       "      <td>M</td>\n",
       "      <td>28</td>\n",
       "      <td>178</td>\n",
       "      <td>66.0</td>\n",
       "      <td>South Korea</td>\n",
       "      <td>KOR</td>\n",
       "      <td>2012</td>\n",
       "      <td>Gold</td>\n",
       "    </tr>\n",
       "    <tr>\n",
       "      <th>15113</th>\n",
       "      <td>Kim Ji-Yeon</td>\n",
       "      <td>F</td>\n",
       "      <td>24</td>\n",
       "      <td>165</td>\n",
       "      <td>56.0</td>\n",
       "      <td>South Korea</td>\n",
       "      <td>KOR</td>\n",
       "      <td>2012</td>\n",
       "      <td>Gold</td>\n",
       "    </tr>\n",
       "    <tr>\n",
       "      <th>17322</th>\n",
       "      <td>Lee Seong-Jin</td>\n",
       "      <td>F</td>\n",
       "      <td>27</td>\n",
       "      <td>164</td>\n",
       "      <td>65.0</td>\n",
       "      <td>South Korea</td>\n",
       "      <td>KOR</td>\n",
       "      <td>2012</td>\n",
       "      <td>Gold</td>\n",
       "    </tr>\n",
       "    <tr>\n",
       "      <th>22374</th>\n",
       "      <td>O Eun-Seok</td>\n",
       "      <td>M</td>\n",
       "      <td>29</td>\n",
       "      <td>181</td>\n",
       "      <td>76.0</td>\n",
       "      <td>South Korea</td>\n",
       "      <td>KOR</td>\n",
       "      <td>2012</td>\n",
       "      <td>Gold</td>\n",
       "    </tr>\n",
       "    <tr>\n",
       "      <th>22543</th>\n",
       "      <td>Oh Jin-Hyek</td>\n",
       "      <td>M</td>\n",
       "      <td>30</td>\n",
       "      <td>182</td>\n",
       "      <td>100.0</td>\n",
       "      <td>South Korea</td>\n",
       "      <td>KOR</td>\n",
       "      <td>2012</td>\n",
       "      <td>Gold</td>\n",
       "    </tr>\n",
       "    <tr>\n",
       "      <th>28968</th>\n",
       "      <td>Song Dae-Nam</td>\n",
       "      <td>M</td>\n",
       "      <td>33</td>\n",
       "      <td>178</td>\n",
       "      <td>85.0</td>\n",
       "      <td>South Korea</td>\n",
       "      <td>KOR</td>\n",
       "      <td>2012</td>\n",
       "      <td>Gold</td>\n",
       "    </tr>\n",
       "    <tr>\n",
       "      <th>33681</th>\n",
       "      <td>Won Wu-Yeong</td>\n",
       "      <td>M</td>\n",
       "      <td>30</td>\n",
       "      <td>182</td>\n",
       "      <td>76.0</td>\n",
       "      <td>South Korea</td>\n",
       "      <td>KOR</td>\n",
       "      <td>2012</td>\n",
       "      <td>Gold</td>\n",
       "    </tr>\n",
       "    <tr>\n",
       "      <th>33990</th>\n",
       "      <td>Yang Hak-Seon</td>\n",
       "      <td>M</td>\n",
       "      <td>19</td>\n",
       "      <td>159</td>\n",
       "      <td>53.0</td>\n",
       "      <td>South Korea</td>\n",
       "      <td>KOR</td>\n",
       "      <td>2012</td>\n",
       "      <td>Gold</td>\n",
       "    </tr>\n",
       "  </tbody>\n",
       "</table>\n",
       "</div>"
      ],
      "text/plain": [
       "                    Name Sex  Age  Height  Weight         Team  NOC  Year  \\\n",
       "5178       Choi Hyeon-Ju   F   27     172    65.0  South Korea  KOR  2012   \n",
       "10840         Gu Bon-Gil   M   23     182    70.0  South Korea  KOR  2012   \n",
       "12813  Hwang Gyeong-Seon   F   26     175    67.0  South Korea  KOR  2012   \n",
       "13821         Jin Jong-O   M   32     175    78.0  South Korea  KOR  2012   \n",
       "13822         Jin Jong-O   M   32     175    78.0  South Korea  KOR  2012   \n",
       "14943          Ki Bo-Bae   F   24     167    57.0  South Korea  KOR  2012   \n",
       "14944          Ki Bo-Bae   F   24     167    57.0  South Korea  KOR  2012   \n",
       "15089       Kim Hyeon-Wu   M   23     173    80.0  South Korea  KOR  2012   \n",
       "15098       Kim Jae-Beom   M   27     180    78.0  South Korea  KOR  2012   \n",
       "15102        Kim Jang-Mi   F   19     160    53.0  South Korea  KOR  2012   \n",
       "15105     Kim Jeong-Hwan   M   28     178    66.0  South Korea  KOR  2012   \n",
       "15113        Kim Ji-Yeon   F   24     165    56.0  South Korea  KOR  2012   \n",
       "17322      Lee Seong-Jin   F   27     164    65.0  South Korea  KOR  2012   \n",
       "22374         O Eun-Seok   M   29     181    76.0  South Korea  KOR  2012   \n",
       "22543        Oh Jin-Hyek   M   30     182   100.0  South Korea  KOR  2012   \n",
       "28968       Song Dae-Nam   M   33     178    85.0  South Korea  KOR  2012   \n",
       "33681       Won Wu-Yeong   M   30     182    76.0  South Korea  KOR  2012   \n",
       "33990      Yang Hak-Seon   M   19     159    53.0  South Korea  KOR  2012   \n",
       "\n",
       "      Medal  \n",
       "5178   Gold  \n",
       "10840  Gold  \n",
       "12813  Gold  \n",
       "13821  Gold  \n",
       "13822  Gold  \n",
       "14943  Gold  \n",
       "14944  Gold  \n",
       "15089  Gold  \n",
       "15098  Gold  \n",
       "15102  Gold  \n",
       "15105  Gold  \n",
       "15113  Gold  \n",
       "17322  Gold  \n",
       "22374  Gold  \n",
       "22543  Gold  \n",
       "28968  Gold  \n",
       "33681  Gold  \n",
       "33990  Gold  "
      ]
     },
     "execution_count": 12,
     "metadata": {},
     "output_type": "execute_result"
    }
   ],
   "source": [
    "#2.3 Year가 2012이고 NOC가 KOR이며 Medal은 Gold인 선수들의 이름,나이,성별,키,몸무게,메달 을 출력하시오.\n",
    "#임의의 object에 저장하여 head()를 이용해 출력할 것\n",
    "\n",
    "df = Olympic[(Olympic['Year']==2012) & (Olympic['NOC']=='KOR')& (Olympic['Medal']=='Gold')]\n",
    "df"
   ]
  },
  {
   "cell_type": "code",
   "execution_count": 13,
   "metadata": {},
   "outputs": [
    {
     "data": {
      "text/html": [
       "<div>\n",
       "<style scoped>\n",
       "    .dataframe tbody tr th:only-of-type {\n",
       "        vertical-align: middle;\n",
       "    }\n",
       "\n",
       "    .dataframe tbody tr th {\n",
       "        vertical-align: top;\n",
       "    }\n",
       "\n",
       "    .dataframe thead th {\n",
       "        text-align: right;\n",
       "    }\n",
       "</style>\n",
       "<table border=\"1\" class=\"dataframe\">\n",
       "  <thead>\n",
       "    <tr style=\"text-align: right;\">\n",
       "      <th></th>\n",
       "      <th>Name</th>\n",
       "      <th>Age</th>\n",
       "      <th>Height</th>\n",
       "      <th>Weight</th>\n",
       "      <th>Medal</th>\n",
       "    </tr>\n",
       "  </thead>\n",
       "  <tbody>\n",
       "    <tr>\n",
       "      <th>5178</th>\n",
       "      <td>Choi Hyeon-Ju</td>\n",
       "      <td>27</td>\n",
       "      <td>172</td>\n",
       "      <td>65.0</td>\n",
       "      <td>Gold</td>\n",
       "    </tr>\n",
       "    <tr>\n",
       "      <th>10840</th>\n",
       "      <td>Gu Bon-Gil</td>\n",
       "      <td>23</td>\n",
       "      <td>182</td>\n",
       "      <td>70.0</td>\n",
       "      <td>Gold</td>\n",
       "    </tr>\n",
       "    <tr>\n",
       "      <th>12813</th>\n",
       "      <td>Hwang Gyeong-Seon</td>\n",
       "      <td>26</td>\n",
       "      <td>175</td>\n",
       "      <td>67.0</td>\n",
       "      <td>Gold</td>\n",
       "    </tr>\n",
       "    <tr>\n",
       "      <th>13821</th>\n",
       "      <td>Jin Jong-O</td>\n",
       "      <td>32</td>\n",
       "      <td>175</td>\n",
       "      <td>78.0</td>\n",
       "      <td>Gold</td>\n",
       "    </tr>\n",
       "    <tr>\n",
       "      <th>13822</th>\n",
       "      <td>Jin Jong-O</td>\n",
       "      <td>32</td>\n",
       "      <td>175</td>\n",
       "      <td>78.0</td>\n",
       "      <td>Gold</td>\n",
       "    </tr>\n",
       "  </tbody>\n",
       "</table>\n",
       "</div>"
      ],
      "text/plain": [
       "                    Name  Age  Height  Weight Medal\n",
       "5178       Choi Hyeon-Ju   27     172    65.0  Gold\n",
       "10840         Gu Bon-Gil   23     182    70.0  Gold\n",
       "12813  Hwang Gyeong-Seon   26     175    67.0  Gold\n",
       "13821         Jin Jong-O   32     175    78.0  Gold\n",
       "13822         Jin Jong-O   32     175    78.0  Gold"
      ]
     },
     "execution_count": 13,
     "metadata": {},
     "output_type": "execute_result"
    }
   ],
   "source": [
    "df[['Name','Age','Height','Weight','Medal']].head()"
   ]
  },
  {
   "cell_type": "code",
   "execution_count": 14,
   "metadata": {},
   "outputs": [
    {
     "data": {
      "text/html": [
       "<div>\n",
       "<style scoped>\n",
       "    .dataframe tbody tr th:only-of-type {\n",
       "        vertical-align: middle;\n",
       "    }\n",
       "\n",
       "    .dataframe tbody tr th {\n",
       "        vertical-align: top;\n",
       "    }\n",
       "\n",
       "    .dataframe thead th {\n",
       "        text-align: right;\n",
       "    }\n",
       "</style>\n",
       "<table border=\"1\" class=\"dataframe\">\n",
       "  <thead>\n",
       "    <tr style=\"text-align: right;\">\n",
       "      <th></th>\n",
       "      <th>Age</th>\n",
       "      <th>Height</th>\n",
       "      <th>Weight</th>\n",
       "      <th>Year</th>\n",
       "    </tr>\n",
       "  </thead>\n",
       "  <tbody>\n",
       "    <tr>\n",
       "      <th>count</th>\n",
       "      <td>18.000000</td>\n",
       "      <td>18.000000</td>\n",
       "      <td>18.000000</td>\n",
       "      <td>18.0</td>\n",
       "    </tr>\n",
       "    <tr>\n",
       "      <th>mean</th>\n",
       "      <td>26.500000</td>\n",
       "      <td>173.055556</td>\n",
       "      <td>70.000000</td>\n",
       "      <td>2012.0</td>\n",
       "    </tr>\n",
       "    <tr>\n",
       "      <th>std</th>\n",
       "      <td>4.147997</td>\n",
       "      <td>7.673271</td>\n",
       "      <td>12.546385</td>\n",
       "      <td>0.0</td>\n",
       "    </tr>\n",
       "    <tr>\n",
       "      <th>min</th>\n",
       "      <td>19.000000</td>\n",
       "      <td>159.000000</td>\n",
       "      <td>53.000000</td>\n",
       "      <td>2012.0</td>\n",
       "    </tr>\n",
       "    <tr>\n",
       "      <th>25%</th>\n",
       "      <td>24.000000</td>\n",
       "      <td>167.000000</td>\n",
       "      <td>59.000000</td>\n",
       "      <td>2012.0</td>\n",
       "    </tr>\n",
       "    <tr>\n",
       "      <th>50%</th>\n",
       "      <td>27.000000</td>\n",
       "      <td>175.000000</td>\n",
       "      <td>68.500000</td>\n",
       "      <td>2012.0</td>\n",
       "    </tr>\n",
       "    <tr>\n",
       "      <th>75%</th>\n",
       "      <td>29.750000</td>\n",
       "      <td>179.500000</td>\n",
       "      <td>78.000000</td>\n",
       "      <td>2012.0</td>\n",
       "    </tr>\n",
       "    <tr>\n",
       "      <th>max</th>\n",
       "      <td>33.000000</td>\n",
       "      <td>182.000000</td>\n",
       "      <td>100.000000</td>\n",
       "      <td>2012.0</td>\n",
       "    </tr>\n",
       "  </tbody>\n",
       "</table>\n",
       "</div>"
      ],
      "text/plain": [
       "             Age      Height      Weight    Year\n",
       "count  18.000000   18.000000   18.000000    18.0\n",
       "mean   26.500000  173.055556   70.000000  2012.0\n",
       "std     4.147997    7.673271   12.546385     0.0\n",
       "min    19.000000  159.000000   53.000000  2012.0\n",
       "25%    24.000000  167.000000   59.000000  2012.0\n",
       "50%    27.000000  175.000000   68.500000  2012.0\n",
       "75%    29.750000  179.500000   78.000000  2012.0\n",
       "max    33.000000  182.000000  100.000000  2012.0"
      ]
     },
     "execution_count": 14,
     "metadata": {},
     "output_type": "execute_result"
    }
   ],
   "source": [
    "#위 데이터를 이용하여 DataFrame의 간단한 통계 정보를 출력할 것\n",
    "df.describe()"
   ]
  },
  {
   "cell_type": "code",
   "execution_count": 38,
   "metadata": {
    "scrolled": true
   },
   "outputs": [
    {
     "data": {
      "text/html": [
       "<div>\n",
       "<style scoped>\n",
       "    .dataframe tbody tr th:only-of-type {\n",
       "        vertical-align: middle;\n",
       "    }\n",
       "\n",
       "    .dataframe tbody tr th {\n",
       "        vertical-align: top;\n",
       "    }\n",
       "\n",
       "    .dataframe thead th {\n",
       "        text-align: right;\n",
       "    }\n",
       "</style>\n",
       "<table border=\"1\" class=\"dataframe\">\n",
       "  <thead>\n",
       "    <tr style=\"text-align: right;\">\n",
       "      <th></th>\n",
       "      <th>Name</th>\n",
       "      <th>Sex</th>\n",
       "      <th>Age</th>\n",
       "      <th>Height</th>\n",
       "      <th>Weight</th>\n",
       "      <th>Team</th>\n",
       "      <th>NOC</th>\n",
       "      <th>Year</th>\n",
       "      <th>Medal</th>\n",
       "    </tr>\n",
       "  </thead>\n",
       "  <tbody>\n",
       "    <tr>\n",
       "      <th>266</th>\n",
       "      <td>Nathan Ghar-Jun Adrian</td>\n",
       "      <td>M</td>\n",
       "      <td>23</td>\n",
       "      <td>198</td>\n",
       "      <td>100.0</td>\n",
       "      <td>United States</td>\n",
       "      <td>USA</td>\n",
       "      <td>2012</td>\n",
       "      <td>Gold</td>\n",
       "    </tr>\n",
       "    <tr>\n",
       "      <th>267</th>\n",
       "      <td>Nathan Ghar-Jun Adrian</td>\n",
       "      <td>M</td>\n",
       "      <td>23</td>\n",
       "      <td>198</td>\n",
       "      <td>100.0</td>\n",
       "      <td>United States</td>\n",
       "      <td>USA</td>\n",
       "      <td>2012</td>\n",
       "      <td>Silver</td>\n",
       "    </tr>\n",
       "    <tr>\n",
       "      <th>268</th>\n",
       "      <td>Nathan Ghar-Jun Adrian</td>\n",
       "      <td>M</td>\n",
       "      <td>23</td>\n",
       "      <td>198</td>\n",
       "      <td>100.0</td>\n",
       "      <td>United States</td>\n",
       "      <td>USA</td>\n",
       "      <td>2012</td>\n",
       "      <td>Gold</td>\n",
       "    </tr>\n",
       "    <tr>\n",
       "      <th>271</th>\n",
       "      <td>Nathan Ghar-Jun Adrian</td>\n",
       "      <td>M</td>\n",
       "      <td>27</td>\n",
       "      <td>198</td>\n",
       "      <td>100.0</td>\n",
       "      <td>United States</td>\n",
       "      <td>USA</td>\n",
       "      <td>2016</td>\n",
       "      <td>Gold</td>\n",
       "    </tr>\n",
       "    <tr>\n",
       "      <th>272</th>\n",
       "      <td>Nathan Ghar-Jun Adrian</td>\n",
       "      <td>M</td>\n",
       "      <td>27</td>\n",
       "      <td>198</td>\n",
       "      <td>100.0</td>\n",
       "      <td>United States</td>\n",
       "      <td>USA</td>\n",
       "      <td>2016</td>\n",
       "      <td>Gold</td>\n",
       "    </tr>\n",
       "  </tbody>\n",
       "</table>\n",
       "</div>"
      ],
      "text/plain": [
       "                       Name Sex  Age  Height  Weight           Team  NOC  \\\n",
       "266  Nathan Ghar-Jun Adrian   M   23     198   100.0  United States  USA   \n",
       "267  Nathan Ghar-Jun Adrian   M   23     198   100.0  United States  USA   \n",
       "268  Nathan Ghar-Jun Adrian   M   23     198   100.0  United States  USA   \n",
       "271  Nathan Ghar-Jun Adrian   M   27     198   100.0  United States  USA   \n",
       "272  Nathan Ghar-Jun Adrian   M   27     198   100.0  United States  USA   \n",
       "\n",
       "     Year   Medal  \n",
       "266  2012    Gold  \n",
       "267  2012  Silver  \n",
       "268  2012    Gold  \n",
       "271  2016    Gold  \n",
       "272  2016    Gold  "
      ]
     },
     "execution_count": 38,
     "metadata": {},
     "output_type": "execute_result"
    }
   ],
   "source": [
    "#2.4 Medal이 Gold, Silver이며 NOC가 KOR,USA,CHN인 데이터만 head()로 출력하시오.\n",
    "Olympic[((Olympic['Medal']==\"Gold\") | (Olympic['Medal']==\"Silver\")) & ((Olympic['NOC'] == \"KOR\")|(Olympic['NOC'] == \"USA\")|(Olympic['NOC'] == \"CHN\"))].head()"
   ]
  },
  {
   "cell_type": "code",
   "execution_count": null,
   "metadata": {},
   "outputs": [],
   "source": [
    "#문제 3. 데이터 시각화"
   ]
  },
  {
   "cell_type": "code",
   "execution_count": 39,
   "metadata": {},
   "outputs": [
    {
     "data": {
      "text/html": [
       "<div>\n",
       "<style scoped>\n",
       "    .dataframe tbody tr th:only-of-type {\n",
       "        vertical-align: middle;\n",
       "    }\n",
       "\n",
       "    .dataframe tbody tr th {\n",
       "        vertical-align: top;\n",
       "    }\n",
       "\n",
       "    .dataframe thead th {\n",
       "        text-align: right;\n",
       "    }\n",
       "</style>\n",
       "<table border=\"1\" class=\"dataframe\">\n",
       "  <thead>\n",
       "    <tr style=\"text-align: right;\">\n",
       "      <th></th>\n",
       "      <th>Name</th>\n",
       "      <th>Sex</th>\n",
       "      <th>Age</th>\n",
       "      <th>Height</th>\n",
       "      <th>Weight</th>\n",
       "      <th>Team</th>\n",
       "      <th>NOC</th>\n",
       "      <th>Year</th>\n",
       "      <th>Medal</th>\n",
       "    </tr>\n",
       "  </thead>\n",
       "  <tbody>\n",
       "    <tr>\n",
       "      <th>0</th>\n",
       "      <td>Luc Abalo</td>\n",
       "      <td>M</td>\n",
       "      <td>27</td>\n",
       "      <td>182</td>\n",
       "      <td>86.0</td>\n",
       "      <td>France</td>\n",
       "      <td>FRA</td>\n",
       "      <td>2012</td>\n",
       "      <td>Gold</td>\n",
       "    </tr>\n",
       "    <tr>\n",
       "      <th>1</th>\n",
       "      <td>Luc Abalo</td>\n",
       "      <td>M</td>\n",
       "      <td>31</td>\n",
       "      <td>182</td>\n",
       "      <td>86.0</td>\n",
       "      <td>France</td>\n",
       "      <td>FRA</td>\n",
       "      <td>2016</td>\n",
       "      <td>Silver</td>\n",
       "    </tr>\n",
       "    <tr>\n",
       "      <th>2</th>\n",
       "      <td>Jeremy Abbott</td>\n",
       "      <td>M</td>\n",
       "      <td>28</td>\n",
       "      <td>175</td>\n",
       "      <td>70.0</td>\n",
       "      <td>United States</td>\n",
       "      <td>USA</td>\n",
       "      <td>2014</td>\n",
       "      <td>Bronze</td>\n",
       "    </tr>\n",
       "    <tr>\n",
       "      <th>3</th>\n",
       "      <td>Jennifer Abel</td>\n",
       "      <td>F</td>\n",
       "      <td>20</td>\n",
       "      <td>160</td>\n",
       "      <td>62.0</td>\n",
       "      <td>Canada</td>\n",
       "      <td>CAN</td>\n",
       "      <td>2012</td>\n",
       "      <td>Bronze</td>\n",
       "    </tr>\n",
       "    <tr>\n",
       "      <th>4</th>\n",
       "      <td>Denis Mikhaylovich Ablyazin</td>\n",
       "      <td>M</td>\n",
       "      <td>19</td>\n",
       "      <td>161</td>\n",
       "      <td>62.0</td>\n",
       "      <td>Russia</td>\n",
       "      <td>RUS</td>\n",
       "      <td>2012</td>\n",
       "      <td>Bronze</td>\n",
       "    </tr>\n",
       "  </tbody>\n",
       "</table>\n",
       "</div>"
      ],
      "text/plain": [
       "                          Name Sex  Age  Height  Weight           Team  NOC  \\\n",
       "0                    Luc Abalo   M   27     182    86.0         France  FRA   \n",
       "1                    Luc Abalo   M   31     182    86.0         France  FRA   \n",
       "2                Jeremy Abbott   M   28     175    70.0  United States  USA   \n",
       "3                Jennifer Abel   F   20     160    62.0         Canada  CAN   \n",
       "4  Denis Mikhaylovich Ablyazin   M   19     161    62.0         Russia  RUS   \n",
       "\n",
       "   Year   Medal  \n",
       "0  2012    Gold  \n",
       "1  2016  Silver  \n",
       "2  2014  Bronze  \n",
       "3  2012  Bronze  \n",
       "4  2012  Bronze  "
      ]
     },
     "execution_count": 39,
     "metadata": {},
     "output_type": "execute_result"
    }
   ],
   "source": [
    "Olympic_viz = pd.read_csv('../Data/Olympic_viz.csv')\n",
    "Olympic_viz.head()"
   ]
  },
  {
   "cell_type": "code",
   "execution_count": 4,
   "metadata": {},
   "outputs": [],
   "source": [
    "#3.1 Seaborn countplot을 이용하여 NOC별 메달 수를 그리시오.\n",
    "from plotnine import *\n"
   ]
  },
  {
   "cell_type": "code",
   "execution_count": 64,
   "metadata": {
    "scrolled": true
   },
   "outputs": [
    {
     "data": {
      "text/html": [
       "<div>\n",
       "<style scoped>\n",
       "    .dataframe tbody tr th:only-of-type {\n",
       "        vertical-align: middle;\n",
       "    }\n",
       "\n",
       "    .dataframe tbody tr th {\n",
       "        vertical-align: top;\n",
       "    }\n",
       "\n",
       "    .dataframe thead th {\n",
       "        text-align: right;\n",
       "    }\n",
       "</style>\n",
       "<table border=\"1\" class=\"dataframe\">\n",
       "  <thead>\n",
       "    <tr style=\"text-align: right;\">\n",
       "      <th></th>\n",
       "      <th>Name</th>\n",
       "      <th>Sex</th>\n",
       "      <th>Age</th>\n",
       "      <th>Height</th>\n",
       "      <th>Weight</th>\n",
       "      <th>Team</th>\n",
       "      <th>NOC</th>\n",
       "      <th>Year</th>\n",
       "      <th>Medal</th>\n",
       "    </tr>\n",
       "  </thead>\n",
       "  <tbody>\n",
       "    <tr>\n",
       "      <th>0</th>\n",
       "      <td>Luc Abalo</td>\n",
       "      <td>M</td>\n",
       "      <td>27</td>\n",
       "      <td>182</td>\n",
       "      <td>86.0</td>\n",
       "      <td>France</td>\n",
       "      <td>FRA</td>\n",
       "      <td>2012</td>\n",
       "      <td>Gold</td>\n",
       "    </tr>\n",
       "    <tr>\n",
       "      <th>1</th>\n",
       "      <td>Luc Abalo</td>\n",
       "      <td>M</td>\n",
       "      <td>31</td>\n",
       "      <td>182</td>\n",
       "      <td>86.0</td>\n",
       "      <td>France</td>\n",
       "      <td>FRA</td>\n",
       "      <td>2016</td>\n",
       "      <td>Silver</td>\n",
       "    </tr>\n",
       "    <tr>\n",
       "      <th>2</th>\n",
       "      <td>Jeremy Abbott</td>\n",
       "      <td>M</td>\n",
       "      <td>28</td>\n",
       "      <td>175</td>\n",
       "      <td>70.0</td>\n",
       "      <td>United States</td>\n",
       "      <td>USA</td>\n",
       "      <td>2014</td>\n",
       "      <td>Bronze</td>\n",
       "    </tr>\n",
       "    <tr>\n",
       "      <th>3</th>\n",
       "      <td>Jennifer Abel</td>\n",
       "      <td>F</td>\n",
       "      <td>20</td>\n",
       "      <td>160</td>\n",
       "      <td>62.0</td>\n",
       "      <td>Canada</td>\n",
       "      <td>CAN</td>\n",
       "      <td>2012</td>\n",
       "      <td>Bronze</td>\n",
       "    </tr>\n",
       "    <tr>\n",
       "      <th>4</th>\n",
       "      <td>Denis Mikhaylovich Ablyazin</td>\n",
       "      <td>M</td>\n",
       "      <td>19</td>\n",
       "      <td>161</td>\n",
       "      <td>62.0</td>\n",
       "      <td>Russia</td>\n",
       "      <td>RUS</td>\n",
       "      <td>2012</td>\n",
       "      <td>Bronze</td>\n",
       "    </tr>\n",
       "  </tbody>\n",
       "</table>\n",
       "</div>"
      ],
      "text/plain": [
       "                          Name Sex  Age  Height  Weight           Team  NOC  \\\n",
       "0                    Luc Abalo   M   27     182    86.0         France  FRA   \n",
       "1                    Luc Abalo   M   31     182    86.0         France  FRA   \n",
       "2                Jeremy Abbott   M   28     175    70.0  United States  USA   \n",
       "3                Jennifer Abel   F   20     160    62.0         Canada  CAN   \n",
       "4  Denis Mikhaylovich Ablyazin   M   19     161    62.0         Russia  RUS   \n",
       "\n",
       "   Year   Medal  \n",
       "0  2012    Gold  \n",
       "1  2016  Silver  \n",
       "2  2014  Bronze  \n",
       "3  2012  Bronze  \n",
       "4  2012  Bronze  "
      ]
     },
     "execution_count": 64,
     "metadata": {},
     "output_type": "execute_result"
    }
   ],
   "source": [
    "Olympic_viz = pd.read_csv('../Data/Olympic_viz.csv')\n",
    "Olympic_viz.head()"
   ]
  },
  {
   "cell_type": "code",
   "execution_count": 12,
   "metadata": {},
   "outputs": [
    {
     "data": {
      "text/plain": [
       "NOC\n",
       "BRA    108\n",
       "CAN    300\n",
       "CHN    269\n",
       "FRA    209\n",
       "GBR    277\n",
       "GER    343\n",
       "KOR    119\n",
       "NED    156\n",
       "RUS    337\n",
       "USA    672\n",
       "Name: Name, dtype: int64"
      ]
     },
     "execution_count": 12,
     "metadata": {},
     "output_type": "execute_result"
    }
   ],
   "source": [
    "Olympic_viz.groupby('NOC').count()['Name']"
   ]
  },
  {
   "cell_type": "code",
   "execution_count": 17,
   "metadata": {
    "scrolled": true
   },
   "outputs": [
    {
     "data": {
      "image/png": "[encoded data removed]",
      "text/plain": [
       "<Figure size 640x480 with 1 Axes>"
      ]
     },
     "metadata": {},
     "output_type": "display_data"
    },
    {
     "data": {
      "text/plain": [
       "<ggplot: (-9223371871963132952)>"
      ]
     },
     "execution_count": 17,
     "metadata": {},
     "output_type": "execute_result"
    }
   ],
   "source": [
    "#3.1 Seaborn countplot을 이용하여 NOC별 메달 수를 그리시오\n",
    "(ggplot(Olympic_viz, aes(x = 'NOC', fill='Medal')) + geom_bar() + theme(axis_text_x=element_text(angle=45)))"
   ]
  },
  {
   "cell_type": "code",
   "execution_count": 33,
   "metadata": {},
   "outputs": [
    {
     "data": {
      "text/plain": [
       "<matplotlib.axes._subplots.AxesSubplot at 0x26646c694c8>"
      ]
     },
     "execution_count": 33,
     "metadata": {},
     "output_type": "execute_result"
    },
    {
     "data": {
      "image/png": "[encoded data removed]",
      "text/plain": [
       "<Figure size 360x360 with 1 Axes>"
      ]
     },
     "metadata": {
      "needs_background": "light"
     },
     "output_type": "display_data"
    }
   ],
   "source": [
    "#3.2 Seaborn countplot을 이용하여 NOC별 메달 수를 높은순으로 다음과 같이 그리시오.\n",
    "Olympic_viz.groupby('NOC').count().sort_values(['Medal'],ascending=False)[['Medal']].plot(kind='bar', figsize=(5,5))\n"
   ]
  },
  {
   "cell_type": "code",
   "execution_count": 55,
   "metadata": {},
   "outputs": [
    {
     "data": {
      "image/png": "[encoded data removed]",
      "text/plain": [
       "<Figure size 640x480 with 1 Axes>"
      ]
     },
     "metadata": {},
     "output_type": "display_data"
    },
    {
     "data": {
      "text/plain": [
       "<ggplot: (-9223371871960929328)>"
      ]
     },
     "execution_count": 55,
     "metadata": {},
     "output_type": "execute_result"
    }
   ],
   "source": [
    "#3.3 Seaborn countplot을 이용하여 NOC별 메달 수를 높은순으로 다음과 같이 그리시오\n",
    "ggplot(Olympic_viz, aes(x='NOC')) +geom_bar()+coord_flip()"
   ]
  },
  {
   "cell_type": "code",
   "execution_count": 34,
   "metadata": {},
   "outputs": [
    {
     "data": {
      "text/plain": [
       "<matplotlib.axes._subplots.AxesSubplot at 0x26646ce87c8>"
      ]
     },
     "execution_count": 34,
     "metadata": {},
     "output_type": "execute_result"
    },
    {
     "data": {
      "image/png": "[encoded data removed]",
      "text/plain": [
       "<Figure size 360x360 with 1 Axes>"
      ]
     },
     "metadata": {
      "needs_background": "light"
     },
     "output_type": "display_data"
    }
   ],
   "source": [
    "#3.4 Seaborn countplot을 이용하여 NOC별 메달 수를 낮은순으로 다음과 같이 그리시오.\n",
    "Olympic_viz.groupby('NOC').count().sort_values(['Medal'],ascending=True)[['Medal']].plot(kind='bar', figsize=(5,5))"
   ]
  },
  {
   "cell_type": "code",
   "execution_count": 68,
   "metadata": {},
   "outputs": [
    {
     "data": {
      "image/png": "[encoded data removed]",
      "text/plain": [
       "<Figure size 640x480 with 1 Axes>"
      ]
     },
     "metadata": {},
     "output_type": "display_data"
    },
    {
     "data": {
      "text/plain": [
       "<ggplot: (-9223371871961114144)>"
      ]
     },
     "execution_count": 68,
     "metadata": {},
     "output_type": "execute_result"
    }
   ],
   "source": [
    "#3.5 NOC별 메달 수를 비율로 다음과 같이 출력 후 시각화 하시오.\n",
    "\n",
    "(ggplot(Olympic_viz, aes(x = 'NOC', fill='Medal')) + geom_bar(position=\"fill\") + theme(axis_text_x=element_text(angle=45)))"
   ]
  },
  {
   "cell_type": "code",
   "execution_count": null,
   "metadata": {},
   "outputs": [],
   "source": []
  }
 ],
 "metadata": {
  "kernelspec": {
   "display_name": "Python 3",
   "language": "python",
   "name": "python3"
  },
  "language_info": {
   "codemirror_mode": {
    "name": "ipython",
    "version": 3
   },
   "file_extension": ".py",
   "mimetype": "text/x-python",
   "name": "python",
   "nbconvert_exporter": "python",
   "pygments_lexer": "ipython3",
   "version": "3.7.6"
  }
 },
 "nbformat": 4,
 "nbformat_minor": 4
}
